{
 "cells": [
  {
   "cell_type": "code",
   "execution_count": null,
   "metadata": {},
   "outputs": [],
   "source": [
    "import pandas as pd\n",
    "import matplotlib.pyplot as plt\n",
    "from io import StringIO\n",
    "\n",
    "# Open the files\n",
    "file_path = '../server/logFile.txt'\n",
    "\n",
    "with open(file_path, 'r') as file:\n",
    "    data = file.read()\n",
    "\n",
    "program_start_time = float(data.split('\\n')[0].split(': ')[1])\n",
    "\n",
    "# Remove the first line\n",
    "data = '\\n'.join(data.split('\\n')[1:])\n",
    "\n",
    "df = pd.read_csv(StringIO(data), sep=\"\\s+\", header=None, names=[\"Time\", \"EventTime\", \"Bytes\"])\n",
    "\n",
    "# Convert nanosecond to seconds by rounding down and then subtract program start time\n",
    "df['Second'] = df['Time'].astype(int) - program_start_time\n",
    "\n",
    "\n",
    "# Sum bytes read per second\n",
    "bytes_per_second = df.groupby('Second')['Bytes'].sum().reset_index()\n",
    "\n",
    "# Convert bytes to kilobytes (KB)\n",
    "bytes_per_second['Bytes'] = bytes_per_second['Bytes'] / 1024\n",
    "bytes_per_second.rename(columns={'Bytes': 'Kilobytes'}, inplace=True)\n",
    "\n",
    "# Plot\n",
    "plt.figure(figsize=(10, 6))\n",
    "plt.plot(bytes_per_second['Second'], bytes_per_second['Kilobytes'], marker='o')\n",
    "plt.title('Bandwidth for Test 2')\n",
    "plt.xlabel('Time (Seconds)')\n",
    "plt.ylabel('Data (Kilobytes)')\n",
    "plt.grid(False)\n",
    "plt.xticks(rotation=45)\n",
    "# plt.tight_layout()\n",
    "\n",
    "# Display plot\n",
    "plt.show()"
   ]
  }
 ],
 "metadata": {
  "language_info": {
   "name": "python"
  }
 },
 "nbformat": 4,
 "nbformat_minor": 2
}
